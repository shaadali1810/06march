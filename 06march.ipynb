{
 "cells": [
  {
   "cell_type": "code",
   "execution_count": 1,
   "id": "5ae87b59-2bb9-49c7-bdbc-268979bb4cc3",
   "metadata": {},
   "outputs": [],
   "source": [
    "#1\n",
    "#Statistics is a branch of applied mathematics that involves the collection, organization, analysis, interpretation, and presentation of empirical data. It is a highly interdisciplinary field that finds applicability in virtually all scientific fields.The mathematical theories behind statistics rely heavily on differential and integral calculus, linear algebra, and probability theory.2 Statistics is concerned with uncertainty and variation, and it is conventional to begin with a statistical population or a statistical model to be studied.1 Without rudimentary knowledge of how it works, people cannot make informed judgments and evaluations of a wide variety of things encountered in daily life.0"
   ]
  },
  {
   "cell_type": "code",
   "execution_count": 2,
   "id": "40a18293-e0b4-4215-a8e7-4e86f3a82e74",
   "metadata": {},
   "outputs": [],
   "source": [
    "#2\n",
    "#Statistics is mainly divided into the following two categories. \n",
    "\n",
    "#Descriptive Statistics\n",
    "\n",
    "#Inferential Statistics"
   ]
  },
  {
   "cell_type": "code",
   "execution_count": 3,
   "id": "b234d68e-a007-41b2-a111-410967def237",
   "metadata": {},
   "outputs": [],
   "source": [
    "#Descriptive statistics is a way to organise, represent and describe a collection of data using tables, graphs, and summary measures. For example, the collection of people in a city using the internet or using Television."
   ]
  },
  {
   "cell_type": "code",
   "execution_count": 4,
   "id": "56dbeeef-c97d-46e2-a50b-e708302d7a86",
   "metadata": {},
   "outputs": [],
   "source": [
    "#inferential Statistics is a method that allows us to use information collected from a sample to make decisions, predictions or inferences from a population. It grants us permission to give statements that goes beyond the available data or information. For example, deriving estimates from hypothetical research"
   ]
  },
  {
   "cell_type": "code",
   "execution_count": 6,
   "id": "d6bf4f5c-aa81-4e64-a117-2e034636c3bd",
   "metadata": {},
   "outputs": [],
   "source": [
    "#3\n",
    "#1 norminal - no rank is required , ex - gender,blood group\n",
    "#2 ordinal - rank  , ex - customer feedback\n",
    "#3 discrete - whole number , ex- no 0f bank account , no of vehicle in a house\n",
    "#4 continous - any value  , ex - weight,speed"
   ]
  },
  {
   "cell_type": "code",
   "execution_count": 7,
   "id": "be0ee81d-625a-45a7-a498-b074ff899e0a",
   "metadata": {},
   "outputs": [],
   "source": [
    "#4\n",
    "#! - quantitative data\n",
    "#2 - qualitative data\n",
    "#3 - quantative data \n",
    "#4 - quatative data"
   ]
  },
  {
   "cell_type": "code",
   "execution_count": 10,
   "id": "4fe3751c-3b99-4c37-b496-ccefa5c7dba4",
   "metadata": {},
   "outputs": [
    {
     "data": {
      "text/plain": [
       "'Weight in grams (continuous)\\nNumber of employees at a company (discrete)\\nSpeed in miles per hour (continuous)\\nLength in centimeters (continuous)\\nAge in years (continuous)\\nIncome in dollars (continuous)\\nSales made in one month (discrete)'"
      ]
     },
     "execution_count": 10,
     "metadata": {},
     "output_type": "execute_result"
    }
   ],
   "source": [
    "#5There are four main levels of measurement: nominal, ordinal, interval, and ratio. In this guide, we’ll explain exactly what is meant by levels of measurement within the realm of data and statistics—and why it matters. We’ll then explore the four levels of measurement in detail, providing some examples of each.\n",
    "#Some examples of nominal data include:\n",
    "\n",
    "'''Eye color (e.g. blue, brown, green)\n",
    "Nationality (e.g. German, Cameroonian, Lebanese)\n",
    "Personality type (e.g. introvert, extrovert, ambivert)\n",
    "Employment status (e.g. unemployed, part-time, retired)\n",
    "Political party voted for in the last election (e.g. party X, party Y, party Z)'''\n",
    "\n",
    "#Some examples of ordinal data include:\n",
    "\n",
    "'''Academic grades (A, B, C, and so on)\n",
    "Happiness on a scale of 1-10 (this is what’s known as a Likert scale)\n",
    "Satisfaction (extremely satisfied, quite satisfied, slightly dissatisfied, extremely dissatisfied)\n",
    "Income (high, medium, or low). Note that income is not an ordinal variable by default; it depends on how you choose to measure it.\n",
    "Level of education completed (high school, bachelor’s degree, master’s degree)\n",
    "Seniority level at work (junior, mid-level, senior'''\n",
    "\n",
    "\n",
    "#Some examples of ordinal data include:\n",
    "\n",
    "'''Academic grades (A, B, C, and so on)\n",
    "Happiness on a scale of 1-10 (this is what’s known as a Likert scale)\n",
    "Satisfaction (extremely satisfied, quite satisfied, slightly dissatisfied, extremely dissatisfied)\n",
    "Income (high, medium, or low). Note that income is not an ordinal variable by default; it depends on how you choose to measure it.\n",
    "Level of education completed (high school, bachelor’s degree, master’s degree)\n",
    "Seniority level at work (junior, mid-level, senior'''\n",
    "\n",
    "\n",
    "#Ratio variables can be discrete (i.e. expressed in finite, countable units) or continuous (potentially taking on infinite values). Here are some examples of ratio data:\n",
    "\n",
    "'''Weight in grams (continuous)\n",
    "Number of employees at a company (discrete)\n",
    "Speed in miles per hour (continuous)\n",
    "Length in centimeters (continuous)\n",
    "Age in years (continuous)\n",
    "Income in dollars (continuous)\n",
    "Sales made in one month (discrete)'''"
   ]
  },
  {
   "cell_type": "code",
   "execution_count": 11,
   "id": "69ac5ee5-2f75-47f2-8c1c-eee42165ebea",
   "metadata": {},
   "outputs": [],
   "source": [
    "#6Level of measurement is important as it determines the type of statistical analysis you can carry out. As a result, it affects both the nature and the depth of insights you’re able to glean from your data. Certain statistical tests can only be performed where more precise levels of measurement have been used, so it’s essential to plan in advance how you’ll gather and measure your data\n",
    "# if we have to analysis the data , first we have to divide the data into several catorgories to analysis the data in depth "
   ]
  },
  {
   "cell_type": "code",
   "execution_count": 12,
   "id": "04f085a4-b12e-4762-b9b6-bdb74487a348",
   "metadata": {},
   "outputs": [],
   "source": [
    "#7 in norminal data no order is requied but in ordinal , order is matter"
   ]
  },
  {
   "cell_type": "code",
   "execution_count": 13,
   "id": "040a1c31-d1de-4531-95b2-fd78564b2ff2",
   "metadata": {},
   "outputs": [],
   "source": [
    "#8 A histogram is a graphical representation that organizes a group of data points into user-specified ranges."
   ]
  },
  {
   "cell_type": "code",
   "execution_count": 14,
   "id": "557c4569-f753-434a-819a-a8dc214dea05",
   "metadata": {},
   "outputs": [],
   "source": [
    "#9 in descriptive statistics ,its consist of organising and summarzing data but in inferential statsistics, it consist of using data you have to measured to form conclusion"
   ]
  },
  {
   "cell_type": "code",
   "execution_count": 15,
   "id": "3ae18f8b-f28d-4793-b480-b5642ce114e1",
   "metadata": {},
   "outputs": [
    {
     "data": {
      "text/plain": [
       "'Hypothesis testing, confidence intervals, regression analysis, ANOVA (analysis of variance), chi-square tests, t-tests, etc.'"
      ]
     },
     "execution_count": 15,
     "metadata": {},
     "output_type": "execute_result"
    }
   ],
   "source": [
    "#Mean, median, mode, standard deviation, range, frequency tables\n",
    "\n",
    "'''Hypothesis testing, confidence intervals, regression analysis, ANOVA (analysis of variance), chi-square tests, t-tests, etc.'''"
   ]
  },
  {
   "cell_type": "code",
   "execution_count": 16,
   "id": "b94b79fe-3051-42b2-a885-71eeda38fda8",
   "metadata": {},
   "outputs": [],
   "source": [
    "# if you were only interested in the exam marks of 100 students, the 100 students would represent your population. Descriptive statistics are applied to populations, and the properties of populations, like the mean or standard deviation, are called parameters as they represent the whole population (i.e., everybody you are interested in).\n",
    "# if we had the results of 100 pieces of students' coursework, we may be interested in the overall performance of those students. We would also be interested in the distribution or spread of the marks. Descriptive statistics allow us to do this. How to properly describe data through statistics and graphs is an important topic and discussed in other Laerd Statistics guides. Typically, there are two general types of statistic that are used to describe data:"
   ]
  },
  {
   "cell_type": "code",
   "execution_count": null,
   "id": "eacbc724-7a5e-4035-8e29-ac811071ed75",
   "metadata": {},
   "outputs": [],
   "source": []
  }
 ],
 "metadata": {
  "kernelspec": {
   "display_name": "Python 3 (ipykernel)",
   "language": "python",
   "name": "python3"
  },
  "language_info": {
   "codemirror_mode": {
    "name": "ipython",
    "version": 3
   },
   "file_extension": ".py",
   "mimetype": "text/x-python",
   "name": "python",
   "nbconvert_exporter": "python",
   "pygments_lexer": "ipython3",
   "version": "3.10.8"
  }
 },
 "nbformat": 4,
 "nbformat_minor": 5
}
